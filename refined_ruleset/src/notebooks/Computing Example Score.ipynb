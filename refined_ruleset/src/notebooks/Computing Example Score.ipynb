{
 "cells": [
  {
   "attachments": {},
   "cell_type": "markdown",
   "metadata": {},
   "source": [
    "Author: Rashad Haddad  \n",
    "Description: Compute scores for example JSONs.  Data is relevant as of Mar 3rd, 2023"
   ]
  },
  {
   "cell_type": "code",
   "execution_count": 1,
   "metadata": {},
   "outputs": [],
   "source": [
    "import pandas as pd\n",
    "import numpy as np\n",
    "\n",
    "import json\n",
    "import sys\n",
    "if \"../\" not in sys.path:\n",
    "    sys.path.append(\"../\")\n",
    "from lib.compute_score import compute_score"
   ]
  },
  {
   "cell_type": "code",
   "execution_count": 2,
   "metadata": {},
   "outputs": [],
   "source": [
    "def make_report(dat):\n",
    "    # instantiate obligor\n",
    "    obl = compute_score(input_data=dat, start_alpha=10, start_beta=10, protocol_name=\"aave_v3\")\n",
    "    \n",
    "    # get counts of each transaction type for reference...\n",
    "    counts = {'borrow': 0, 'repay': 0, 'liquidation': 0, 'deposit': 0, 'withdraw': 0}\n",
    "    min_timestamp = np.inf\n",
    "    max_timestamp = 0\n",
    "    for tx in dat:\n",
    "        counts[tx['type']] = counts.get(tx['type'],0) + 1\n",
    "\n",
    "        if int(tx['timestamp']) > max_timestamp:\n",
    "            max_timestamp = int(tx[\"timestamp\"])\n",
    "        if int(tx['timestamp']) < min_timestamp:\n",
    "            min_timestamp = int(tx[\"timestamp\"])\n",
    "\n",
    "    # get report\n",
    "    print(\"Number of transactions --> \", len(dat))\n",
    "    print(\"Number of borrows --> \", counts['borrow'])\n",
    "    print(\"Number of repays --> \", counts['repay'])\n",
    "    print(\"Number of liquidates --> \", counts['liquidation'])\n",
    "    print(\"Number of deposits --> \", counts['deposit'])\n",
    "    print(\"Number of withdraws --> \", counts['withdraw'])\n",
    "    print(\"Finishing alpha (good credit param) --> \", obl._alpha)\n",
    "    print(\"Finishing beta (bad credit param) --> \", obl._beta)\n",
    "    print(\"Finishing score --> \", obl.get_score())\n",
    "    print(\"Finishing 95% confidence interval --> \", obl.get_conf_interval())\n",
    "    print(\"\\nmin timestamp --> \", min_timestamp)\n",
    "    print(\"\\nmax timestamp --> \", max_timestamp)\n",
    "\n",
    "    return obl\n"
   ]
  },
  {
   "attachments": {},
   "cell_type": "markdown",
   "metadata": {},
   "source": [
    "### Example 1 0x2d3178af3dfbb679716cc14e245be0a9e5945500"
   ]
  },
  {
   "cell_type": "code",
   "execution_count": 3,
   "metadata": {},
   "outputs": [
    {
     "name": "stdout",
     "output_type": "stream",
     "text": [
      "Number of transactions -->  52\n",
      "Number of borrows -->  20\n",
      "Number of repays -->  5\n",
      "Number of liquidates -->  0\n",
      "Number of deposits -->  25\n",
      "Number of withdraws -->  2\n",
      "Finishing alpha (good credit param) -->  17.39337698223064\n",
      "Finishing beta (bad credit param) -->  18.30814684632559\n",
      "Finishing score -->  49\n",
      "Finishing 95% confidence interval -->  (32, 65)\n",
      "\n",
      "min timestamp -->  1674860423\n",
      "\n",
      "max timestamp -->  1677831467\n"
     ]
    }
   ],
   "source": [
    "obl1 = make_report(json.load(open(\"../../../testData/0x2d31-49-32-65.json\",\"r\")))"
   ]
  },
  {
   "attachments": {},
   "cell_type": "markdown",
   "metadata": {},
   "source": [
    "Example 1 ties with ts..."
   ]
  },
  {
   "attachments": {},
   "cell_type": "markdown",
   "metadata": {},
   "source": [
    "### Example 2 0x9600a48ed0f931d0c422d574e3275a90d8b22745"
   ]
  },
  {
   "cell_type": "code",
   "execution_count": 5,
   "metadata": {},
   "outputs": [
    {
     "name": "stdout",
     "output_type": "stream",
     "text": [
      "Number of transactions -->  259\n",
      "Number of borrows -->  85\n",
      "Number of repays -->  24\n",
      "Number of liquidates -->  0\n",
      "Number of deposits -->  100\n",
      "Number of withdraws -->  50\n",
      "Finishing alpha (good credit param) -->  65.75930237060297\n",
      "Finishing beta (bad credit param) -->  32.784419407149244\n",
      "Finishing score -->  67\n",
      "Finishing 95% confidence interval -->  (57, 76)\n",
      "\n",
      "min timestamp -->  1676169899\n",
      "\n",
      "max timestamp -->  1677880187\n"
     ]
    }
   ],
   "source": [
    "obl2 = make_report(json.load(open(\"../../../testData/0x9600-67-57-76.json\",\"r\")))"
   ]
  },
  {
   "attachments": {},
   "cell_type": "markdown",
   "metadata": {},
   "source": [
    "ties to TS"
   ]
  },
  {
   "attachments": {},
   "cell_type": "markdown",
   "metadata": {},
   "source": [
    "With a lower bound at 61, we are very confident this is a reliable borrower. This borrower can safely be given high efficiency terms."
   ]
  },
  {
   "attachments": {},
   "cell_type": "markdown",
   "metadata": {},
   "source": [
    "### Example 3 0xa3fa88658d7f6ceea0288033e85de77d3c02f779 "
   ]
  },
  {
   "cell_type": "code",
   "execution_count": 6,
   "metadata": {},
   "outputs": [
    {
     "name": "stdout",
     "output_type": "stream",
     "text": [
      "Number of transactions -->  8\n",
      "Number of borrows -->  1\n",
      "Number of repays -->  2\n",
      "Number of liquidates -->  0\n",
      "Number of deposits -->  3\n",
      "Number of withdraws -->  2\n",
      "Finishing alpha (good credit param) -->  14.001376668246658\n",
      "Finishing beta (bad credit param) -->  10.487846014458789\n",
      "Finishing score -->  57\n",
      "Finishing 95% confidence interval -->  (38, 77)\n",
      "\n",
      "min timestamp -->  1675891079\n",
      "\n",
      "max timestamp -->  1677012215\n"
     ]
    }
   ],
   "source": [
    "obl3 = make_report(json.load(open(\"../../../testData/0xa3fa-57-38-77.json\",\"r\")))"
   ]
  },
  {
   "attachments": {},
   "cell_type": "markdown",
   "metadata": {},
   "source": [
    "ties to TS."
   ]
  },
  {
   "attachments": {},
   "cell_type": "markdown",
   "metadata": {},
   "source": [
    "### Example 4 0x6cfdad0772edc2ea15076a9706ec7c1f0a791ac1"
   ]
  },
  {
   "cell_type": "code",
   "execution_count": 8,
   "metadata": {},
   "outputs": [
    {
     "name": "stdout",
     "output_type": "stream",
     "text": [
      "Number of transactions -->  38\n",
      "Number of borrows -->  11\n",
      "Number of repays -->  9\n",
      "Number of liquidates -->  0\n",
      "Number of deposits -->  7\n",
      "Number of withdraws -->  11\n",
      "Finishing alpha (good credit param) -->  21.813410432792107\n",
      "Finishing beta (bad credit param) -->  14.835966627253944\n",
      "Finishing score -->  60\n",
      "Finishing 95% confidence interval -->  (44, 76)\n",
      "\n",
      "min timestamp -->  1675294295\n",
      "\n",
      "max timestamp -->  1677717719\n"
     ]
    }
   ],
   "source": [
    "obl4 = make_report(json.load(open(\"../../../testData/0x6cfd-60-44-76.json\")))"
   ]
  },
  {
   "attachments": {},
   "cell_type": "markdown",
   "metadata": {},
   "source": [
    "ties to TS."
   ]
  },
  {
   "attachments": {},
   "cell_type": "markdown",
   "metadata": {},
   "source": [
    "## Example 5 "
   ]
  },
  {
   "cell_type": "code",
   "execution_count": 10,
   "metadata": {},
   "outputs": [
    {
     "name": "stdout",
     "output_type": "stream",
     "text": [
      "Number of transactions -->  36\n",
      "Number of borrows -->  13\n",
      "Number of repays -->  4\n",
      "Number of liquidates -->  1\n",
      "Number of deposits -->  14\n",
      "Number of withdraws -->  4\n",
      "Finishing alpha (good credit param) -->  13.763601281372745\n",
      "Finishing beta (bad credit param) -->  16.14149574107211\n",
      "Finishing score -->  46\n",
      "Finishing 95% confidence interval -->  (28, 64)\n",
      "\n",
      "min timestamp -->  1675123559\n",
      "\n",
      "max timestamp -->  1675995815\n"
     ]
    }
   ],
   "source": [
    "obl5 = make_report(json.load(open(\"../../../testData/0xbec6-46-28-65.json\",\"r\")))"
   ]
  },
  {
   "attachments": {},
   "cell_type": "markdown",
   "metadata": {},
   "source": [
    "ties with TS, weird round on upper bound."
   ]
  },
  {
   "attachments": {},
   "cell_type": "markdown",
   "metadata": {},
   "source": [
    "Depsite otherwise good history, we see that given this account has experienced a liquidation, the score isn't that good."
   ]
  },
  {
   "attachments": {},
   "cell_type": "markdown",
   "metadata": {},
   "source": [
    "### Example 6 0x23db246031fd6f4e81b0814e9c1dc0901a18da2d"
   ]
  },
  {
   "attachments": {},
   "cell_type": "markdown",
   "metadata": {},
   "source": [
    "This is an interesting example as there are multiple borrows against the same collat, and a liquidation."
   ]
  },
  {
   "cell_type": "code",
   "execution_count": 13,
   "metadata": {},
   "outputs": [
    {
     "name": "stdout",
     "output_type": "stream",
     "text": [
      "Number of transactions -->  5\n",
      "Number of borrows -->  3\n",
      "Number of repays -->  0\n",
      "Number of liquidates -->  1\n",
      "Number of deposits -->  1\n",
      "Number of withdraws -->  0\n",
      "Finishing alpha (good credit param) -->  10\n",
      "Finishing beta (bad credit param) -->  11.794383676032568\n",
      "Finishing score -->  46\n",
      "Finishing 95% confidence interval -->  (25, 67)\n",
      "\n",
      "min timestamp -->  1674866891\n",
      "\n",
      "max timestamp -->  1675105907\n"
     ]
    }
   ],
   "source": [
    "obl6 = make_report(json.load(open(\"../../../testData/0x23db-46-25-67.json\",\"r\")))"
   ]
  },
  {
   "attachments": {},
   "cell_type": "markdown",
   "metadata": {},
   "source": [
    "ties to TS."
   ]
  },
  {
   "attachments": {},
   "cell_type": "markdown",
   "metadata": {},
   "source": [
    "Given no repays and a liquidation, a score of 49 is fitting, the range however is very wide here at 29,70, indicating we have a small amount of information on this borrower. A conservative lender should demand high collateral ratios from this borrower.  "
   ]
  },
  {
   "attachments": {},
   "cell_type": "markdown",
   "metadata": {},
   "source": [
    "### Example 7 0x69bfc96c3983053c36e790c7eb79372bf6979518"
   ]
  },
  {
   "cell_type": "code",
   "execution_count": 14,
   "metadata": {},
   "outputs": [
    {
     "name": "stdout",
     "output_type": "stream",
     "text": [
      "Number of transactions -->  3\n",
      "Number of borrows -->  1\n",
      "Number of repays -->  0\n",
      "Number of liquidates -->  1\n",
      "Number of deposits -->  1\n",
      "Number of withdraws -->  0\n",
      "Finishing alpha (good credit param) -->  10\n",
      "Finishing beta (bad credit param) -->  10.84354189622502\n",
      "Finishing score -->  48\n",
      "Finishing 95% confidence interval -->  (27, 69)\n",
      "\n",
      "min timestamp -->  1676176763\n",
      "\n",
      "max timestamp -->  1676282087\n"
     ]
    }
   ],
   "source": [
    "obl7 = make_report(json.load(open(\"../../../testData/0x69bf-48-27-69.json\",\"r\")))"
   ]
  },
  {
   "attachments": {},
   "cell_type": "markdown",
   "metadata": {},
   "source": [
    "ties to TS."
   ]
  },
  {
   "attachments": {},
   "cell_type": "markdown",
   "metadata": {},
   "source": [
    "The score benefits here (slighly) from the deposit, but the range is wide."
   ]
  },
  {
   "attachments": {},
   "cell_type": "markdown",
   "metadata": {},
   "source": [
    "### Example 8 0x2e18e31801870d91114fbfd33c6e4242242bec20"
   ]
  },
  {
   "cell_type": "code",
   "execution_count": 15,
   "metadata": {},
   "outputs": [
    {
     "name": "stdout",
     "output_type": "stream",
     "text": [
      "Number of transactions -->  5\n",
      "Number of borrows -->  3\n",
      "Number of repays -->  0\n",
      "Number of liquidates -->  1\n",
      "Number of deposits -->  1\n",
      "Number of withdraws -->  0\n",
      "Finishing alpha (good credit param) -->  10\n",
      "Finishing beta (bad credit param) -->  11.794383676032568\n",
      "Finishing score -->  46\n",
      "Finishing 95% confidence interval -->  (25, 67)\n",
      "\n",
      "min timestamp -->  1674866891\n",
      "\n",
      "max timestamp -->  1675105907\n"
     ]
    }
   ],
   "source": [
    "obl8 = make_report(json.load(open(\"../../../testData/0x23db-46-25-67.json\")))"
   ]
  },
  {
   "attachments": {},
   "cell_type": "markdown",
   "metadata": {},
   "source": [
    "ties to TS..."
   ]
  },
  {
   "attachments": {},
   "cell_type": "markdown",
   "metadata": {},
   "source": [
    "### Example 9  -- 0x2068d14ee50772dd6e89c6f64f32adad0cc936ef"
   ]
  },
  {
   "attachments": {},
   "cell_type": "markdown",
   "metadata": {},
   "source": [
    "This exampple is interesting due to as of the time it was downloaded there were 19 open positions"
   ]
  },
  {
   "cell_type": "code",
   "execution_count": 16,
   "metadata": {},
   "outputs": [
    {
     "name": "stdout",
     "output_type": "stream",
     "text": [
      "Number of transactions -->  20\n",
      "Number of borrows -->  10\n",
      "Number of repays -->  0\n",
      "Number of liquidates -->  0\n",
      "Number of deposits -->  10\n",
      "Number of withdraws -->  0\n",
      "Finishing alpha (good credit param) -->  19.705117750920703\n",
      "Finishing beta (bad credit param) -->  14.408590330654636\n",
      "Finishing score -->  58\n",
      "Finishing 95% confidence interval -->  (41, 74)\n",
      "\n",
      "min timestamp -->  1677641207\n",
      "\n",
      "max timestamp -->  1677747995\n"
     ]
    }
   ],
   "source": [
    "obl9 = make_report(json.load(open(\"../../../testData/0x2068-58-41-74.json\")))"
   ]
  },
  {
   "cell_type": "markdown",
   "metadata": {},
   "source": [
    "ties to TS."
   ]
  }
 ],
 "metadata": {
  "kernelspec": {
   "display_name": "CreditScoreModel",
   "language": "python",
   "name": "python3"
  },
  "language_info": {
   "codemirror_mode": {
    "name": "ipython",
    "version": 3
   },
   "file_extension": ".py",
   "mimetype": "text/x-python",
   "name": "python",
   "nbconvert_exporter": "python",
   "pygments_lexer": "ipython3",
   "version": "3.9.16"
  },
  "orig_nbformat": 4,
  "vscode": {
   "interpreter": {
    "hash": "a56ace66de7c3df70e75d1d150fa7a353857775985ac4ca672205fd974bb5ae1"
   }
  }
 },
 "nbformat": 4,
 "nbformat_minor": 2
}
