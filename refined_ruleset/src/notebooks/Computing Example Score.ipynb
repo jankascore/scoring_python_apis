{
 "cells": [
  {
   "attachments": {},
   "cell_type": "markdown",
   "metadata": {},
   "source": [
    "Author: Rashad Haddad  \n",
    "Description: Compute scores for example JSONs.  "
   ]
  },
  {
   "cell_type": "code",
   "execution_count": 1,
   "metadata": {},
   "outputs": [],
   "source": [
    "import pandas as pd\n",
    "import numpy as np\n",
    "\n",
    "import json\n",
    "import sys\n",
    "if \"../\" not in sys.path:\n",
    "    sys.path.append(\"../\")\n",
    "from lib.compute_score import compute_score"
   ]
  },
  {
   "cell_type": "code",
   "execution_count": 2,
   "metadata": {},
   "outputs": [],
   "source": [
    "%load_ext autoreload"
   ]
  },
  {
   "cell_type": "code",
   "execution_count": 3,
   "metadata": {},
   "outputs": [],
   "source": [
    "def make_report(dat):\n",
    "    # instantiate obligor\n",
    "    obl = compute_score(input_data=dat, start_alpha=10, start_beta=10, protocol_name=\"aave_v3\")\n",
    "    \n",
    "    # get counts of each transaction type for reference...\n",
    "    counts = {'borrow': 0, 'repay': 0, 'liquidate': 0, 'deposit': 0, 'withdraw': 0}\n",
    "    for tx in dat:\n",
    "        counts[tx['type']] = counts.get(tx['type'],0) + 1\n",
    "\n",
    "    # get report\n",
    "    print(\"Number of transactions --> \", len(dat))\n",
    "    print(\"Number of borrows --> \", counts['borrow'])\n",
    "    print(\"Number of repays --> \", counts['repay'])\n",
    "    print(\"Number of liquidates --> \", counts['liquidate'])\n",
    "    print(\"Number of deposits --> \", counts['deposit'])\n",
    "    print(\"Number of withdraws --> \", counts['withdraw'])\n",
    "    print(\"Finishing alpha (good credit param) --> \", obl._alpha)\n",
    "    print(\"Finishing beta (bad credit param) --> \", obl._beta)\n",
    "    print(\"Finishing score --> \", obl.get_score())\n",
    "    print(\"Finishing 95% confidence interval --> \", obl.get_conf_interval())\n",
    "\n",
    "    return obl\n"
   ]
  },
  {
   "attachments": {},
   "cell_type": "markdown",
   "metadata": {},
   "source": [
    "### Example 1 0xe6c2-70-47-92"
   ]
  },
  {
   "cell_type": "code",
   "execution_count": 4,
   "metadata": {},
   "outputs": [
    {
     "name": "stdout",
     "output_type": "stream",
     "text": [
      "Number of transactions -->  7\n",
      "Number of borrows -->  3\n",
      "Number of repays -->  2\n",
      "Number of liquidates -->  0\n",
      "Number of deposits -->  2\n",
      "Number of withdraws -->  0\n",
      "Finishing alpha (good credit param) -->  12.665221615464331\n",
      "Finishing beta (bad credit param) -->  11.435209205392773\n",
      "Finishing score -->  53\n",
      "Finishing 95% confidence interval -->  (33, 72)\n"
     ]
    },
    {
     "data": {
      "text/plain": [
       "<lib.obligor_v2.Obligor at 0x7f8e78dbbe20>"
      ]
     },
     "execution_count": 4,
     "metadata": {},
     "output_type": "execute_result"
    }
   ],
   "source": [
    "make_report(json.load(open(\"../../../example_jsons/0xe6c2-70-47-92.json\",\"r\")))\n"
   ]
  },
  {
   "attachments": {},
   "cell_type": "markdown",
   "metadata": {},
   "source": [
    "### Example 2 0x9600-70-47-93"
   ]
  },
  {
   "cell_type": "code",
   "execution_count": 5,
   "metadata": {},
   "outputs": [
    {
     "name": "stdout",
     "output_type": "stream",
     "text": [
      "Number of transactions -->  257\n",
      "Number of borrows -->  83\n",
      "Number of repays -->  24\n",
      "Number of liquidates -->  0\n",
      "Number of deposits -->  100\n",
      "Number of withdraws -->  50\n",
      "Finishing alpha (good credit param) -->  88.19577359334615\n",
      "Finishing beta (bad credit param) -->  30.829539623056988\n",
      "Finishing score -->  74\n",
      "Finishing 95% confidence interval -->  (66, 82)\n"
     ]
    }
   ],
   "source": [
    "%autoreload\n",
    "obl2 = make_report(json.load(open(\"../../../example_jsons/0x9600-70-47-93.json\",\"r\")))"
   ]
  },
  {
   "attachments": {},
   "cell_type": "markdown",
   "metadata": {},
   "source": [
    "### Example 3 0xa3fa88658d7f6ceea0288033e85de77d3c02f779 "
   ]
  },
  {
   "cell_type": "code",
   "execution_count": 6,
   "metadata": {},
   "outputs": [
    {
     "name": "stdout",
     "output_type": "stream",
     "text": [
      "Number of transactions -->  8\n",
      "Number of borrows -->  1\n",
      "Number of repays -->  2\n",
      "Number of liquidates -->  0\n",
      "Number of deposits -->  3\n",
      "Number of withdraws -->  2\n",
      "Finishing alpha (good credit param) -->  14.001376668246658\n",
      "Finishing beta (bad credit param) -->  10.487846014458789\n",
      "Finishing score -->  57\n",
      "Finishing 95% confidence interval -->  (38, 77)\n"
     ]
    }
   ],
   "source": [
    "obl3 = make_report(json.load(open(\"../../../example_jsons/0xa3fa88658d7f6ceea0288033e85de77d3c02f779.json\",\"r\")))"
   ]
  },
  {
   "attachments": {},
   "cell_type": "markdown",
   "metadata": {},
   "source": [
    "## Example 4 0x9600a48ed0f931d0c422d574e3275a90d8b22745"
   ]
  },
  {
   "cell_type": "code",
   "execution_count": 7,
   "metadata": {},
   "outputs": [
    {
     "name": "stdout",
     "output_type": "stream",
     "text": [
      "Number of transactions -->  258\n",
      "Number of borrows -->  84\n",
      "Number of repays -->  24\n",
      "Number of liquidates -->  0\n",
      "Number of deposits -->  100\n",
      "Number of withdraws -->  50\n",
      "Finishing alpha (good credit param) -->  88.18139827089585\n",
      "Finishing beta (bad credit param) -->  31.021164310762284\n",
      "Finishing score -->  74\n",
      "Finishing 95% confidence interval -->  (66, 82)\n"
     ]
    }
   ],
   "source": [
    "obl4 = make_report(json.load(open(\"../../../example_jsons/0x9600a48ed0f931d0c422d574e3275a90d8b22745.json\")))"
   ]
  },
  {
   "cell_type": "markdown",
   "metadata": {},
   "source": [
    "Despite the large tx volume the score here is likely low due to large amounts of credit being extended, without depositing large amounts of collateral. This borrower is likely to see a liquidation before repayment"
   ]
  },
  {
   "attachments": {},
   "cell_type": "markdown",
   "metadata": {},
   "source": [
    "### Example 5"
   ]
  },
  {
   "cell_type": "code",
   "execution_count": 8,
   "metadata": {},
   "outputs": [
    {
     "name": "stdout",
     "output_type": "stream",
     "text": [
      "Number of transactions -->  38\n",
      "Number of borrows -->  11\n",
      "Number of repays -->  9\n",
      "Number of liquidates -->  0\n",
      "Number of deposits -->  7\n",
      "Number of withdraws -->  11\n",
      "Finishing alpha (good credit param) -->  25.046224823451503\n",
      "Finishing beta (bad credit param) -->  14.71828188124225\n",
      "Finishing score -->  63\n",
      "Finishing 95% confidence interval -->  (48, 78)\n"
     ]
    }
   ],
   "source": [
    "obl5 = make_report(json.load(open(\"../../../example_jsons/0x6cfdad0772edc2ea15076a9706ec7c1f0a791ac1.json\")))"
   ]
  },
  {
   "attachments": {},
   "cell_type": "markdown",
   "metadata": {},
   "source": [
    "## Example 6 "
   ]
  },
  {
   "cell_type": "code",
   "execution_count": 11,
   "metadata": {},
   "outputs": [
    {
     "name": "stdout",
     "output_type": "stream",
     "text": [
      "aEthUSDC ETH\n"
     ]
    },
    {
     "ename": "KeyError",
     "evalue": "'ETH'",
     "output_type": "error",
     "traceback": [
      "\u001b[0;31m---------------------------------------------------------------------------\u001b[0m",
      "\u001b[0;31mKeyError\u001b[0m                                  Traceback (most recent call last)",
      "Cell \u001b[0;32mIn[11], line 2\u001b[0m\n\u001b[1;32m      1\u001b[0m get_ipython()\u001b[39m.\u001b[39mrun_line_magic(\u001b[39m'\u001b[39m\u001b[39mautoreload\u001b[39m\u001b[39m'\u001b[39m, \u001b[39m'\u001b[39m\u001b[39m'\u001b[39m)\n\u001b[0;32m----> 2\u001b[0m obl6 \u001b[39m=\u001b[39m make_report(json\u001b[39m.\u001b[39;49mload(\u001b[39mopen\u001b[39;49m(\u001b[39m\"\u001b[39;49m\u001b[39m../../../example_jsons/0xbec69dfce4c1fa8b7843fee1ca85788d84a86b06.json\u001b[39;49m\u001b[39m\"\u001b[39;49m,\u001b[39m\"\u001b[39;49m\u001b[39mr\u001b[39;49m\u001b[39m\"\u001b[39;49m)))\n",
      "Cell \u001b[0;32mIn[3], line 3\u001b[0m, in \u001b[0;36mmake_report\u001b[0;34m(dat)\u001b[0m\n\u001b[1;32m      1\u001b[0m \u001b[39mdef\u001b[39;00m \u001b[39mmake_report\u001b[39m(dat):\n\u001b[1;32m      2\u001b[0m     \u001b[39m# instantiate obligor\u001b[39;00m\n\u001b[0;32m----> 3\u001b[0m     obl \u001b[39m=\u001b[39m compute_score(input_data\u001b[39m=\u001b[39;49mdat, start_alpha\u001b[39m=\u001b[39;49m\u001b[39m10\u001b[39;49m, start_beta\u001b[39m=\u001b[39;49m\u001b[39m10\u001b[39;49m, protocol_name\u001b[39m=\u001b[39;49m\u001b[39m\"\u001b[39;49m\u001b[39maave_v3\u001b[39;49m\u001b[39m\"\u001b[39;49m)\n\u001b[1;32m      5\u001b[0m     \u001b[39m# get counts of each transaction type for reference...\u001b[39;00m\n\u001b[1;32m      6\u001b[0m     counts \u001b[39m=\u001b[39m {\u001b[39m'\u001b[39m\u001b[39mborrow\u001b[39m\u001b[39m'\u001b[39m: \u001b[39m0\u001b[39m, \u001b[39m'\u001b[39m\u001b[39mrepay\u001b[39m\u001b[39m'\u001b[39m: \u001b[39m0\u001b[39m, \u001b[39m'\u001b[39m\u001b[39mliquidate\u001b[39m\u001b[39m'\u001b[39m: \u001b[39m0\u001b[39m, \u001b[39m'\u001b[39m\u001b[39mdeposit\u001b[39m\u001b[39m'\u001b[39m: \u001b[39m0\u001b[39m, \u001b[39m'\u001b[39m\u001b[39mwithdraw\u001b[39m\u001b[39m'\u001b[39m: \u001b[39m0\u001b[39m}\n",
      "File \u001b[0;32m~/Library/CloudStorage/OneDrive-Personal/Documents/Janka/ETHD23_MVP/scoring_python_apis/refined_ruleset/src/notebooks/../lib/compute_score.py:57\u001b[0m, in \u001b[0;36mcompute_score\u001b[0;34m(input_data, start_alpha, start_beta, migration_params, protocol_name)\u001b[0m\n\u001b[1;32m     55\u001b[0m         liq_symbol \u001b[39m=\u001b[39m liq_symbol[\u001b[39m1\u001b[39m:first_upper]\u001b[39m.\u001b[39mupper()\n\u001b[1;32m     56\u001b[0m         \u001b[39mprint\u001b[39m(event\u001b[39m.\u001b[39msymbol, liq_symbol)\n\u001b[0;32m---> 57\u001b[0m     obl\u001b[39m.\u001b[39;49madd_liquidation(amt_to_liq\u001b[39m=\u001b[39;49mevent\u001b[39m.\u001b[39;49mamount, collat_name\u001b[39m=\u001b[39;49mliq_symbol, protocol_name\u001b[39m=\u001b[39;49mprotocol_name, loan_num\u001b[39m=\u001b[39;49m\u001b[39m0\u001b[39;49m)\n\u001b[1;32m     58\u001b[0m \u001b[39melse\u001b[39;00m:\n\u001b[1;32m     59\u001b[0m     \u001b[39mpass\u001b[39;00m\n",
      "File \u001b[0;32m~/Library/CloudStorage/OneDrive-Personal/Documents/Janka/ETHD23_MVP/scoring_python_apis/refined_ruleset/src/notebooks/../lib/obligor_v2.py:273\u001b[0m, in \u001b[0;36mObligor.add_liquidation\u001b[0;34m(self, amt_to_liq, collat_name, protocol_name, loan_num)\u001b[0m\n\u001b[1;32m    270\u001b[0m     \u001b[39mraise\u001b[39;00m \u001b[39mException\u001b[39;00m(\u001b[39m\"\u001b[39m\u001b[39mLoan does not exist! \u001b[39m\u001b[39m\"\u001b[39m)\n\u001b[1;32m    272\u001b[0m \u001b[39m# update the collateral amt\u001b[39;00m\n\u001b[0;32m--> 273\u001b[0m loan\u001b[39m.\u001b[39mcollateral_amts[collat_name] \u001b[39m-\u001b[39m\u001b[39m=\u001b[39m amt_to_liq\n",
      "\u001b[0;31mKeyError\u001b[0m: 'ETH'"
     ]
    }
   ],
   "source": [
    "%autoreload\n",
    "obl6 = make_report(json.load(open(\"../../../example_jsons/0xbec69dfce4c1fa8b7843fee1ca85788d84a86b06.json\",\"r\")))"
   ]
  },
  {
   "cell_type": "code",
   "execution_count": null,
   "metadata": {},
   "outputs": [],
   "source": []
  }
 ],
 "metadata": {
  "kernelspec": {
   "display_name": "CreditScoreModel",
   "language": "python",
   "name": "python3"
  },
  "language_info": {
   "codemirror_mode": {
    "name": "ipython",
    "version": 3
   },
   "file_extension": ".py",
   "mimetype": "text/x-python",
   "name": "python",
   "nbconvert_exporter": "python",
   "pygments_lexer": "ipython3",
   "version": "3.9.16"
  },
  "orig_nbformat": 4,
  "vscode": {
   "interpreter": {
    "hash": "a56ace66de7c3df70e75d1d150fa7a353857775985ac4ca672205fd974bb5ae1"
   }
  }
 },
 "nbformat": 4,
 "nbformat_minor": 2
}
