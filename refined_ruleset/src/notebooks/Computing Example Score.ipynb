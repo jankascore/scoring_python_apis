{
 "cells": [
  {
   "attachments": {},
   "cell_type": "markdown",
   "metadata": {},
   "source": [
    "Author: Rashad Haddad  \n",
    "Description: Compute scores for example JSONs.  Data is relevant as of Mar 3rd, 2023"
   ]
  },
  {
   "cell_type": "code",
   "execution_count": 1,
   "metadata": {},
   "outputs": [],
   "source": [
    "import pandas as pd\n",
    "import numpy as np\n",
    "\n",
    "import json\n",
    "import sys\n",
    "if \"../\" not in sys.path:\n",
    "    sys.path.append(\"../\")\n",
    "from lib.compute_score import compute_score"
   ]
  },
  {
   "cell_type": "code",
   "execution_count": 2,
   "metadata": {},
   "outputs": [],
   "source": [
    "%load_ext autoreload"
   ]
  },
  {
   "cell_type": "code",
   "execution_count": 3,
   "metadata": {},
   "outputs": [],
   "source": [
    "def make_report(dat):\n",
    "    # instantiate obligor\n",
    "    obl = compute_score(input_data=dat, start_alpha=10, start_beta=10, protocol_name=\"aave_v3\")\n",
    "    \n",
    "    # get counts of each transaction type for reference...\n",
    "    counts = {'borrow': 0, 'repay': 0, 'liquidation': 0, 'deposit': 0, 'withdraw': 0}\n",
    "    min_timestamp = np.inf\n",
    "    max_timestamp = 0\n",
    "    for tx in dat:\n",
    "        counts[tx['type']] = counts.get(tx['type'],0) + 1\n",
    "\n",
    "        if int(tx['timestamp']) > max_timestamp:\n",
    "            max_timestamp = int(tx[\"timestamp\"])\n",
    "        if int(tx['timestamp']) < min_timestamp:\n",
    "            min_timestamp = int(tx[\"timestamp\"])\n",
    "\n",
    "    # get report\n",
    "    print(\"Number of transactions --> \", len(dat))\n",
    "    print(\"Number of borrows --> \", counts['borrow'])\n",
    "    print(\"Number of repays --> \", counts['repay'])\n",
    "    print(\"Number of liquidates --> \", counts['liquidation'])\n",
    "    print(\"Number of deposits --> \", counts['deposit'])\n",
    "    print(\"Number of withdraws --> \", counts['withdraw'])\n",
    "    print(\"Finishing alpha (good credit param) --> \", obl._alpha)\n",
    "    print(\"Finishing beta (bad credit param) --> \", obl._beta)\n",
    "    print(\"Finishing score --> \", obl.get_score())\n",
    "    print(\"Finishing 95% confidence interval --> \", obl.get_conf_interval())\n",
    "    print(\"Earliest\")\n",
    "\n",
    "    return obl\n"
   ]
  },
  {
   "attachments": {},
   "cell_type": "markdown",
   "metadata": {},
   "source": [
    "### Example 1 0x2d3178af3dfbb679716cc14e245be0a9e594550"
   ]
  },
  {
   "cell_type": "code",
   "execution_count": 18,
   "metadata": {},
   "outputs": [
    {
     "name": "stdout",
     "output_type": "stream",
     "text": [
      "Number of transactions -->  52\n",
      "Number of borrows -->  20\n",
      "Number of repays -->  5\n",
      "Number of liquidates -->  0\n",
      "Number of deposits -->  25\n",
      "Number of withdraws -->  2\n",
      "Finishing alpha (good credit param) -->  18.623083681990213\n",
      "Finishing beta (bad credit param) -->  18.139272255831564\n",
      "Finishing score -->  51\n",
      "Finishing 95% confidence interval -->  (34, 67)\n"
     ]
    }
   ],
   "source": [
    "obl1 = make_report(json.load(open(\"../../../example_jsons/0x2d3178af3dfbb679716cc14e245be0a9e5945500.json\",\"r\")))\n"
   ]
  },
  {
   "attachments": {},
   "cell_type": "markdown",
   "metadata": {},
   "source": [
    "### Example 2 0x9600a48ed0f931d0c422d574e3275a90d8b22745"
   ]
  },
  {
   "cell_type": "code",
   "execution_count": 16,
   "metadata": {},
   "outputs": [
    {
     "name": "stdout",
     "output_type": "stream",
     "text": [
      "Number of transactions -->  258\n",
      "Number of borrows -->  84\n",
      "Number of repays -->  24\n",
      "Number of liquidates -->  0\n",
      "Number of deposits -->  100\n",
      "Number of withdraws -->  50\n",
      "Finishing alpha (good credit param) -->  88.90587791937955\n",
      "Finishing beta (bad credit param) -->  30.821560629873026\n",
      "Finishing score -->  74\n",
      "Finishing 95% confidence interval -->  (66, 82)\n"
     ]
    }
   ],
   "source": [
    "%autoreload\n",
    "obl2 = make_report(json.load(open(\"../../../example_jsons/0x9600a48ed0f931d0c422d574e3275a90d8b22745.json\",\"r\")))"
   ]
  },
  {
   "attachments": {},
   "cell_type": "markdown",
   "metadata": {},
   "source": [
    "With a lower bound at 66, we are very confident this is a reliable borrower. This borrower can safely be given high efficiency terms."
   ]
  },
  {
   "attachments": {},
   "cell_type": "markdown",
   "metadata": {},
   "source": [
    "### Example 3 0xa3fa88658d7f6ceea0288033e85de77d3c02f779 "
   ]
  },
  {
   "cell_type": "code",
   "execution_count": 6,
   "metadata": {},
   "outputs": [
    {
     "name": "stdout",
     "output_type": "stream",
     "text": [
      "Number of transactions -->  8\n",
      "Number of borrows -->  1\n",
      "Number of repays -->  2\n",
      "Number of liquidates -->  0\n",
      "Number of deposits -->  3\n",
      "Number of withdraws -->  2\n",
      "Finishing alpha (good credit param) -->  16.53878759036552\n",
      "Finishing beta (bad credit param) -->  10.460912222139333\n",
      "Finishing score -->  61\n",
      "Finishing 95% confidence interval -->  (43, 80)\n"
     ]
    }
   ],
   "source": [
    "obl3 = make_report(json.load(open(\"../../../example_jsons/0xa3fa88658d7f6ceea0288033e85de77d3c02f779.json\",\"r\")))"
   ]
  },
  {
   "attachments": {},
   "cell_type": "markdown",
   "metadata": {},
   "source": [
    "## Example 4 0x9600a48ed0f931d0c422d574e3275a90d8b22745"
   ]
  },
  {
   "cell_type": "code",
   "execution_count": 7,
   "metadata": {},
   "outputs": [
    {
     "name": "stdout",
     "output_type": "stream",
     "text": [
      "Number of transactions -->  258\n",
      "Number of borrows -->  84\n",
      "Number of repays -->  24\n",
      "Number of liquidates -->  0\n",
      "Number of deposits -->  100\n",
      "Number of withdraws -->  50\n",
      "Finishing alpha (good credit param) -->  88.90587791937955\n",
      "Finishing beta (bad credit param) -->  30.821560629873026\n",
      "Finishing score -->  74\n",
      "Finishing 95% confidence interval -->  (66, 82)\n"
     ]
    }
   ],
   "source": [
    "obl4 = make_report(json.load(open(\"../../../example_jsons/0x9600a48ed0f931d0c422d574e3275a90d8b22745.json\")))"
   ]
  },
  {
   "cell_type": "markdown",
   "metadata": {},
   "source": [
    "Despite the large tx volume the score here is likely low due to large amounts of credit being extended, without depositing large amounts of collateral. This borrower is likely to see a liquidation before repayment"
   ]
  },
  {
   "attachments": {},
   "cell_type": "markdown",
   "metadata": {},
   "source": [
    "### Example 5"
   ]
  },
  {
   "cell_type": "code",
   "execution_count": 8,
   "metadata": {},
   "outputs": [
    {
     "name": "stdout",
     "output_type": "stream",
     "text": [
      "Number of transactions -->  38\n",
      "Number of borrows -->  11\n",
      "Number of repays -->  9\n",
      "Number of liquidates -->  0\n",
      "Number of deposits -->  7\n",
      "Number of withdraws -->  11\n",
      "Finishing alpha (good credit param) -->  24.027202333170525\n",
      "Finishing beta (bad credit param) -->  14.711665937064263\n",
      "Finishing score -->  62\n",
      "Finishing 95% confidence interval -->  (47, 77)\n"
     ]
    }
   ],
   "source": [
    "obl5 = make_report(json.load(open(\"../../../example_jsons/0x6cfdad0772edc2ea15076a9706ec7c1f0a791ac1.json\")))"
   ]
  },
  {
   "attachments": {},
   "cell_type": "markdown",
   "metadata": {},
   "source": [
    "## Example 6 "
   ]
  },
  {
   "cell_type": "code",
   "execution_count": 9,
   "metadata": {},
   "outputs": [
    {
     "name": "stdout",
     "output_type": "stream",
     "text": [
      "aEthUSDC ETH\n",
      "Number of transactions -->  36\n",
      "Number of borrows -->  13\n",
      "Number of repays -->  4\n",
      "Number of liquidates -->  1\n",
      "Number of deposits -->  14\n",
      "Number of withdraws -->  4\n",
      "Finishing alpha (good credit param) -->  16.24790895189583\n",
      "Finishing beta (bad credit param) -->  15.677803421766086\n",
      "Finishing score -->  51\n",
      "Finishing 95% confidence interval -->  (33, 68)\n"
     ]
    }
   ],
   "source": [
    "%autoreload\n",
    "obl6 = make_report(json.load(open(\"../../../example_jsons/0xbec69dfce4c1fa8b7843fee1ca85788d84a86b06.json\",\"r\")))"
   ]
  },
  {
   "cell_type": "markdown",
   "metadata": {},
   "source": [
    "Depsite otherwise good history, we see that given this account has experienced a liquidation, the score is much lower..."
   ]
  },
  {
   "attachments": {},
   "cell_type": "markdown",
   "metadata": {},
   "source": [
    "### Example 7 0x23db246031fd6f4e81b0814e9c1dc0901a18da2d"
   ]
  },
  {
   "attachments": {},
   "cell_type": "markdown",
   "metadata": {},
   "source": [
    "This is an interesting example as there are multiple borrows against the same collat, and a liquidation."
   ]
  },
  {
   "cell_type": "code",
   "execution_count": 10,
   "metadata": {},
   "outputs": [],
   "source": [
    "dat7 = pd.json_normalize(json.load(open(\"../../../example_jsons/0x23db246031fd6f4e81b0814e9c1dc0901a18da2d.json\",\"r\")))"
   ]
  },
  {
   "cell_type": "code",
   "execution_count": 11,
   "metadata": {},
   "outputs": [
    {
     "data": {
      "text/html": [
       "<div>\n",
       "<style scoped>\n",
       "    .dataframe tbody tr th:only-of-type {\n",
       "        vertical-align: middle;\n",
       "    }\n",
       "\n",
       "    .dataframe tbody tr th {\n",
       "        vertical-align: top;\n",
       "    }\n",
       "\n",
       "    .dataframe thead th {\n",
       "        text-align: right;\n",
       "    }\n",
       "</style>\n",
       "<table border=\"1\" class=\"dataframe\">\n",
       "  <thead>\n",
       "    <tr style=\"text-align: right;\">\n",
       "      <th></th>\n",
       "      <th>amount</th>\n",
       "      <th>amountUSD</th>\n",
       "      <th>timestamp</th>\n",
       "      <th>logIndex</th>\n",
       "      <th>symbol</th>\n",
       "      <th>type</th>\n",
       "    </tr>\n",
       "  </thead>\n",
       "  <tbody>\n",
       "    <tr>\n",
       "      <th>0</th>\n",
       "      <td>3.076774</td>\n",
       "      <td>4937.606882</td>\n",
       "      <td>1674866891</td>\n",
       "      <td>279</td>\n",
       "      <td>WETH</td>\n",
       "      <td>deposit</td>\n",
       "    </tr>\n",
       "    <tr>\n",
       "      <th>1</th>\n",
       "      <td>2530.580418</td>\n",
       "      <td>2530.508979</td>\n",
       "      <td>1674866891</td>\n",
       "      <td>284</td>\n",
       "      <td>DAI</td>\n",
       "      <td>borrow</td>\n",
       "    </tr>\n",
       "    <tr>\n",
       "      <th>2</th>\n",
       "      <td>905.720373</td>\n",
       "      <td>905.678927</td>\n",
       "      <td>1674866891</td>\n",
       "      <td>290</td>\n",
       "      <td>USDC</td>\n",
       "      <td>borrow</td>\n",
       "    </tr>\n",
       "    <tr>\n",
       "      <th>3</th>\n",
       "      <td>500.000000</td>\n",
       "      <td>500.100910</td>\n",
       "      <td>1675044023</td>\n",
       "      <td>130</td>\n",
       "      <td>USDC</td>\n",
       "      <td>borrow</td>\n",
       "    </tr>\n",
       "    <tr>\n",
       "      <th>4</th>\n",
       "      <td>0.857464</td>\n",
       "      <td>1322.616413</td>\n",
       "      <td>1675105907</td>\n",
       "      <td>154</td>\n",
       "      <td>aEthDAI</td>\n",
       "      <td>liquidation</td>\n",
       "    </tr>\n",
       "  </tbody>\n",
       "</table>\n",
       "</div>"
      ],
      "text/plain": [
       "        amount    amountUSD   timestamp  logIndex   symbol         type\n",
       "0     3.076774  4937.606882  1674866891       279     WETH      deposit\n",
       "1  2530.580418  2530.508979  1674866891       284      DAI       borrow\n",
       "2   905.720373   905.678927  1674866891       290     USDC       borrow\n",
       "3   500.000000   500.100910  1675044023       130     USDC       borrow\n",
       "4     0.857464  1322.616413  1675105907       154  aEthDAI  liquidation"
      ]
     },
     "execution_count": 11,
     "metadata": {},
     "output_type": "execute_result"
    }
   ],
   "source": [
    "dat7"
   ]
  },
  {
   "cell_type": "code",
   "execution_count": 12,
   "metadata": {},
   "outputs": [
    {
     "name": "stdout",
     "output_type": "stream",
     "text": [
      "aEthDAI ETH\n",
      "Number of transactions -->  5\n",
      "Number of borrows -->  3\n",
      "Number of repays -->  0\n",
      "Number of liquidates -->  1\n",
      "Number of deposits -->  1\n",
      "Number of withdraws -->  0\n",
      "Finishing alpha (good credit param) -->  11.38254953631871\n",
      "Finishing beta (bad credit param) -->  11.407437263944388\n",
      "Finishing score -->  50\n",
      "Finishing 95% confidence interval -->  (29, 70)\n"
     ]
    }
   ],
   "source": [
    "%autoreload\n",
    "obl7 = make_report(json.load(open(\"../../../example_jsons/0x23db246031fd6f4e81b0814e9c1dc0901a18da2d.json\",\"r\")))"
   ]
  },
  {
   "cell_type": "markdown",
   "metadata": {},
   "source": [
    "Given no repays and a liquidation, a score of 50 is fitting, the range however is very wide here at 29,70, indicating we have a small amount of information on this borrower. A conservative lender should demand high collateral ratios from this borrower.  "
   ]
  },
  {
   "attachments": {},
   "cell_type": "markdown",
   "metadata": {},
   "source": [
    "### Example 8 0x69bfc96c3983053c36e790c7eb79372bf6979518"
   ]
  },
  {
   "cell_type": "code",
   "execution_count": 13,
   "metadata": {},
   "outputs": [
    {
     "name": "stdout",
     "output_type": "stream",
     "text": [
      "aEthUSDC ETH\n",
      "Number of transactions -->  3\n",
      "Number of borrows -->  1\n",
      "Number of repays -->  0\n",
      "Number of liquidates -->  1\n",
      "Number of deposits -->  1\n",
      "Number of withdraws -->  0\n",
      "Finishing alpha (good credit param) -->  11.38254953631871\n",
      "Finishing beta (bad credit param) -->  10.473700792228422\n",
      "Finishing score -->  52\n",
      "Finishing 95% confidence interval -->  (31, 73)\n"
     ]
    }
   ],
   "source": [
    "obl8 = make_report(json.load(open(\"../../../example_jsons/0x69bfc96c3983053c36e790c7eb79372bf6979518.json\",\"r\")))"
   ]
  },
  {
   "attachments": {},
   "cell_type": "markdown",
   "metadata": {},
   "source": [
    "The score benefits here (slighly) from the deposit, but the range is wide."
   ]
  },
  {
   "attachments": {},
   "cell_type": "markdown",
   "metadata": {},
   "source": [
    "### Example 9 0x2e18e31801870d91114fbfd33c6e4242242bec20"
   ]
  },
  {
   "cell_type": "code",
   "execution_count": 14,
   "metadata": {},
   "outputs": [
    {
     "name": "stdout",
     "output_type": "stream",
     "text": [
      "Number of transactions -->  30\n",
      "Number of borrows -->  11\n",
      "Number of repays -->  3\n",
      "Number of liquidates -->  0\n",
      "Number of deposits -->  16\n",
      "Number of withdraws -->  0\n",
      "Finishing alpha (good credit param) -->  16.338414720618317\n",
      "Finishing beta (bad credit param) -->  14.791268807880426\n",
      "Finishing score -->  52\n",
      "Finishing 95% confidence interval -->  (35, 70)\n"
     ]
    }
   ],
   "source": [
    "%autoreload\n",
    "obl9 = make_report(json.load(open(\"../../../example_jsons/0x2e18e31801870d91114fbfd33c6e4242242bec20.json\")))"
   ]
  },
  {
   "attachments": {},
   "cell_type": "markdown",
   "metadata": {},
   "source": [
    "### Example 10  -- 0x2068d14ee50772dd6e89c6f64f32adad0cc936ef"
   ]
  },
  {
   "attachments": {},
   "cell_type": "markdown",
   "metadata": {},
   "source": [
    "This exampple is interesting due to as of the time it was downloaded there were 19 open positions"
   ]
  },
  {
   "cell_type": "code",
   "execution_count": 15,
   "metadata": {},
   "outputs": [
    {
     "name": "stdout",
     "output_type": "stream",
     "text": [
      "Number of transactions -->  20\n",
      "Number of borrows -->  10\n",
      "Number of repays -->  0\n",
      "Number of liquidates -->  0\n",
      "Number of deposits -->  10\n",
      "Number of withdraws -->  0\n",
      "Finishing alpha (good credit param) -->  22.05913668696993\n",
      "Finishing beta (bad credit param) -->  14.213635371118105\n",
      "Finishing score -->  61\n",
      "Finishing 95% confidence interval -->  (45, 77)\n"
     ]
    }
   ],
   "source": [
    "obl10 = make_report(json.load(open(\"../../../example_jsons/0x2068d14ee50772dd6e89c6f64f32adad0cc936ef.json\")))"
   ]
  },
  {
   "cell_type": "code",
   "execution_count": null,
   "metadata": {},
   "outputs": [],
   "source": []
  }
 ],
 "metadata": {
  "kernelspec": {
   "display_name": "CreditScoreModel",
   "language": "python",
   "name": "python3"
  },
  "language_info": {
   "codemirror_mode": {
    "name": "ipython",
    "version": 3
   },
   "file_extension": ".py",
   "mimetype": "text/x-python",
   "name": "python",
   "nbconvert_exporter": "python",
   "pygments_lexer": "ipython3",
   "version": "3.9.16"
  },
  "orig_nbformat": 4,
  "vscode": {
   "interpreter": {
    "hash": "a56ace66de7c3df70e75d1d150fa7a353857775985ac4ca672205fd974bb5ae1"
   }
  }
 },
 "nbformat": 4,
 "nbformat_minor": 2
}
