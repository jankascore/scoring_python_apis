{
 "cells": [
  {
   "cell_type": "markdown",
   "metadata": {},
   "source": [
    "Author: Rashad Haddad    \n",
    "Description: In this notebook, using a reasonable set of assumptions, we seek a choice of parameters for our model so that it converges to the correct score over a period of time.  "
   ]
  },
  {
   "cell_type": "code",
   "execution_count": 2,
   "metadata": {},
   "outputs": [],
   "source": [
    "from typing import Dict\n",
    "\n",
    "import plotly.express as px\n",
    "\n",
    "import pandas as pd\n",
    "import numpy as np\n",
    "\n",
    "import sys\n",
    "if \"../\" not in sys.path:\n",
    "    sys.path.append(\"../\")\n",
    "from lib.obligor import Obligor\n",
    "from lib.credit_migration_schema import MigrationParams"
   ]
  },
  {
   "cell_type": "code",
   "execution_count": 3,
   "metadata": {},
   "outputs": [],
   "source": [
    "N_borrows = 1000  # number of borrowers in our sim  \n",
    "N_trials = 100  # number of eval points  \n",
    "random_seed = 42  # ensure same results on repeated trials.   \n",
    "\n",
    "r = 0.04  # 4% p.a.\n",
    "vol = 0.8  # 80% p.a.\n",
    "time_step = 1/365  # each time step is 1 day.\n",
    "\n",
    "LTV_orig = 1 / 1.4  # origination ltv\n",
    "LTV_liq = 1 / 1.2 # liquidation ltv\n",
    "\n",
    "repay_prob = 0.85  # probability borrower repays debt in any period"
   ]
  },
  {
   "cell_type": "code",
   "execution_count": 4,
   "metadata": {},
   "outputs": [],
   "source": [
    "# simulate borrows times\n",
    "borrow_times = np.random.random(size=(N_borrows, N_trials+1))\n",
    "borrow_times[:,0] = 1  # all start with a loan\n",
    "borrow_times[:,1:] = np.where(borrow_times[:,1:] > 0.5, 1, 0)\n",
    "\n",
    "# simulate repay times\n",
    "repay_times = np.zeros(borrow_times.shape)\n",
    "repay_times[:,1:] = np.where(np.random.random(size=repay_times[:,1:].shape)>(1-repay_prob), 1, 0)\n",
    "\n",
    "# simulate repay amounts\n",
    "repay_amts = np.where(repay_times > 0, np.ones(repay_times.shape), 0)\n",
    "\n",
    "# simulate asset value following GBM\n",
    "var = vol ** 2\n",
    "T = N_trials * time_step\n",
    "Z = np.random.normal(size=(1, N_trials+1))\n",
    "Z[0,0] = 0  # must start at 0\n",
    "drift = (T / N_trials) * np.arange(0, N_trials+1).reshape((1, N_trials+1))\n",
    "asset_value = np.exp(r*drift + (r - 0.5*var)*drift + vol*(drift**0.5)*Z)"
   ]
  },
  {
   "cell_type": "code",
   "execution_count": 7,
   "metadata": {},
   "outputs": [],
   "source": [
    "def process(X : tuple, borrow_times : np.ndarray, repay_times : np.ndarray, repay_amts : np.ndarray, asset_value : np.ndarray, start_alpha: int = 10, start_beta: int = 10) -> float:\n",
    "\n",
    "    # upack the parameters\n",
    "    c0, xi0 = X[0], X[1]    \n",
    "    c1, xi1 = X[2], X[3]\n",
    "    c2, xi2 = X[4], X[5]\n",
    "    c3, xi3 = X[6], X[7]\n",
    "\n",
    "    # set up migration params...\n",
    "    migration_params = MigrationParams(c0=c0,xi0=xi0,c1=c1,xi1=xi1,c2=c2,xi2=xi2, c3=c3, xi3=xi3)\n",
    "\n",
    "    # set up an array to track borrowers with the params\n",
    "    borrower_collect: np.ndarray[Obligor] = np.ndarray(shape=(1, N_borrows), dtype=Obligor)\n",
    "    for i in range(borrower_collect.shape[1]):\n",
    "        borrower_collect[0,i] = Obligor(alpha=start_alpha, beta=start_beta,migration_params=migration_params)\n",
    "\n",
    "    # set up array of alphas, betas to track results\n",
    "    alphas = start_alpha * np.ones(borrow_times.shape)\n",
    "    betas = start_beta * np.ones(repay_times.shape)\n",
    "    \n",
    "    # run the procedure...\n",
    "    for j in range(alphas.shape[1]):\n",
    "        \n",
    "        for i in range(N_borrows):\n",
    "            # apply origination where is borrow time\n",
    "            borrower = borrower_collect[0,i]\n",
    "\n",
    "            if borrow_times[i,j] > 0:\n",
    "                borrower.add_borrow(amount=1, tenor=0, collateral_amt = 1 / (LTV_orig*asset_value[0,j]))\n",
    "\n",
    "            perp_loan = borrower._fetch_loan()\n",
    "\n",
    "            if not isinstance(perp_loan, type(None)):\n",
    "\n",
    "                # apply repay where is repay time\n",
    "                if repay_times[i,j] > 0:\n",
    "                    \n",
    "                    # set amount to repay\n",
    "                    repay_amt = min(repay_amts[i,j], perp_loan.outstanding_amount)\n",
    "\n",
    "                    # add repay for borrower\n",
    "                    borrower.add_repay(amount=repay_amt, repayment_time = 0)\n",
    "\n",
    "                    # we will assume the borrower get back\n",
    "                    # or withdraws excess collateral\n",
    "                    # compute this as the amount of collateral\n",
    "                    # units that back 1 unit of the liability\n",
    "                    excess_colat = (1 / (LTV_liq*asset_value[0,j]))\n",
    "                    excess_colat = max(excess_colat, perp_loan.collateral_amt)\n",
    "\n",
    "                    # withdraw excess collat\n",
    "                    borrower.withdraw_collateral(withdraw_amt=excess_colat)\n",
    "\n",
    "            perp_loan = borrower._fetch_loan()\n",
    "\n",
    "            if not isinstance(perp_loan, type(None)):\n",
    "                # apply liq where is liq time\n",
    "                borrower_ltv = perp_loan.ltv(asset_value[0,j])\n",
    "\n",
    "                if borrower_ltv > LTV_liq:\n",
    "\n",
    "                    # compute untis collat to liq...\n",
    "                    amt_to_liq = (LTV_liq*asset_value[0,j]*perp_loan.collateral_amt - perp_loan.outstanding_amount) / (LTV_liq*asset_value[0,j] - asset_value[0,j])\n",
    "                    \n",
    "                    # ensure the amount to liquidate is bounded\n",
    "                    amt_to_liq = min(max(amt_to_liq,0), perp_loan.collateral_amt)\n",
    "\n",
    "                    # add liquidation for borrower\n",
    "                    borrower.add_liquidation(amt_to_liq=amt_to_liq, asset_price=asset_value[0,j], repayment_time = 0)\n",
    "\n",
    "            # record current alpha and beta for further analysis\n",
    "            alphas[i,j] = borrower._alpha\n",
    "            betas[i,j] = borrower._beta\n",
    "\n",
    "    # compute ending probs..\n",
    "    ending_probs = np.divide(alphas[:,-1], alphas[:,-1] + betas[:,-1])\n",
    "\n",
    "    # return the ending probability\n",
    "    return ending_probs.mean()\n",
    "\n",
    "# target function, minimize difference from target prob..\n",
    "def target(X : tuple, target_prob : float = 0.85):\n",
    "\n",
    "    # get the obs prob from + repay times\n",
    "    obs_prob_plus = process(X, borrow_times = borrow_times, repay_times = repay_times, repay_amts = repay_amts, asset_value = asset_value, start_alpha = 10, start_beta = 10)\n",
    "\n",
    "    # flip the repay times and do the same thing.  \n",
    "    # if borrower is good 85% of the time, now they are \n",
    "    # good only 15% of the time...\n",
    "    # do 1 - repay times to flip probability\n",
    "    # recall repay amts is 1 when repay times is 1 else 0\n",
    "    obs_prob_flip = process(X, borrow_times = borrow_times, repay_times = 1 - repay_times, repay_amts = 1 - repay_amts, asset_value = asset_value, start_alpha = 10, start_beta = 10)\n",
    "\n",
    "    return (target_prob - obs_prob_plus)**2 + ((1-target_prob) - obs_prob_flip)**2"
   ]
  },
  {
   "attachments": {},
   "cell_type": "markdown",
   "metadata": {},
   "source": [
    "Test run"
   ]
  },
  {
   "cell_type": "code",
   "execution_count": 8,
   "metadata": {},
   "outputs": [
    {
     "data": {
      "text/plain": [
       "0.33891484349966694"
      ]
     },
     "execution_count": 8,
     "metadata": {},
     "output_type": "execute_result"
    }
   ],
   "source": [
    "c0=1\n",
    "xi0=171.8281828459045\n",
    "c1=1\n",
    "xi1=171.8281828459045\n",
    "c2=1\n",
    "xi2=171.8281828459045\n",
    "c3=1\n",
    "xi3=171.8281828459045\n",
    "\n",
    "\n",
    "process((c0, xi0,c1, xi1,c2, xi2,c3, xi3,), borrow_times = borrow_times, repay_times = repay_times, repay_amts = repay_amts, asset_value = asset_value, start_alpha = 10, start_beta = 10)"
   ]
  },
  {
   "cell_type": "code",
   "execution_count": null,
   "metadata": {},
   "outputs": [],
   "source": []
  }
 ],
 "metadata": {
  "kernelspec": {
   "display_name": "CreditScoreModel",
   "language": "python",
   "name": "python3"
  },
  "language_info": {
   "codemirror_mode": {
    "name": "ipython",
    "version": 3
   },
   "file_extension": ".py",
   "mimetype": "text/x-python",
   "name": "python",
   "nbconvert_exporter": "python",
   "pygments_lexer": "ipython3",
   "version": "3.9.16"
  },
  "orig_nbformat": 4,
  "vscode": {
   "interpreter": {
    "hash": "a56ace66de7c3df70e75d1d150fa7a353857775985ac4ca672205fd974bb5ae1"
   }
  }
 },
 "nbformat": 4,
 "nbformat_minor": 2
}
